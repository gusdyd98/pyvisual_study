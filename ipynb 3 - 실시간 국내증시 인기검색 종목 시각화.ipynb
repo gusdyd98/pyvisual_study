{
 "cells": [
  {
   "cell_type": "code",
   "execution_count": 1,
   "metadata": {},
   "outputs": [],
   "source": [
    "%matplotlib inline\n",
    "from matplotlib import pyplot as plt\n",
    "import pandas as pd\n",
    "import seaborn as sns\n",
    "\n",
    "plt.rcParams['axes.unicode_minus'] = False\n",
    "plt.rcParams['font.family'] = 'Malgun Gothic'\n",
    "\n",
    "from tqdm import tqdm_notebook   # pip install tqdm\n",
    "from libs import stock_daum, stock_naver"
   ]
  },
  {
   "cell_type": "markdown",
   "metadata": {},
   "source": [
    "## 실시간 국내증시 인기검색 종목 크롤링"
   ]
  },
  {
   "cell_type": "code",
   "execution_count": 53,
   "metadata": {},
   "outputs": [
    {
     "name": "stdout",
     "output_type": "stream",
     "text": [
      "(10, 4)\n"
     ]
    },
    {
     "data": {
      "text/html": [
       "<div>\n",
       "<style scoped>\n",
       "    .dataframe tbody tr th:only-of-type {\n",
       "        vertical-align: middle;\n",
       "    }\n",
       "\n",
       "    .dataframe tbody tr th {\n",
       "        vertical-align: top;\n",
       "    }\n",
       "\n",
       "    .dataframe thead th {\n",
       "        text-align: right;\n",
       "    }\n",
       "</style>\n",
       "<table border=\"1\" class=\"dataframe\">\n",
       "  <thead>\n",
       "    <tr style=\"text-align: right;\">\n",
       "      <th></th>\n",
       "      <th>direction</th>\n",
       "      <th>url</th>\n",
       "      <th>거래가</th>\n",
       "      <th>종목코드</th>\n",
       "    </tr>\n",
       "    <tr>\n",
       "      <th>종목명</th>\n",
       "      <th></th>\n",
       "      <th></th>\n",
       "      <th></th>\n",
       "      <th></th>\n",
       "    </tr>\n",
       "  </thead>\n",
       "  <tbody>\n",
       "    <tr>\n",
       "      <th>현대차</th>\n",
       "      <td>up</td>\n",
       "      <td>https://finance.naver.com/item/main.nhn?code=0...</td>\n",
       "      <td>100500</td>\n",
       "      <td>005380</td>\n",
       "    </tr>\n",
       "    <tr>\n",
       "      <th>대아티아이</th>\n",
       "      <td>up</td>\n",
       "      <td>https://finance.naver.com/item/main.nhn?code=0...</td>\n",
       "      <td>8380</td>\n",
       "      <td>045390</td>\n",
       "    </tr>\n",
       "    <tr>\n",
       "      <th>셀트리온</th>\n",
       "      <td>dn</td>\n",
       "      <td>https://finance.naver.com/item/main.nhn?code=0...</td>\n",
       "      <td>238500</td>\n",
       "      <td>068270</td>\n",
       "    </tr>\n",
       "    <tr>\n",
       "      <th>삼성전자</th>\n",
       "      <td>up</td>\n",
       "      <td>https://finance.naver.com/item/main.nhn?code=0...</td>\n",
       "      <td>42850</td>\n",
       "      <td>005930</td>\n",
       "    </tr>\n",
       "    <tr>\n",
       "      <th>아모레퍼시픽</th>\n",
       "      <td>up</td>\n",
       "      <td>https://finance.naver.com/item/main.nhn?code=0...</td>\n",
       "      <td>162500</td>\n",
       "      <td>090430</td>\n",
       "    </tr>\n",
       "    <tr>\n",
       "      <th>삼성전기</th>\n",
       "      <td>up</td>\n",
       "      <td>https://finance.naver.com/item/main.nhn?code=0...</td>\n",
       "      <td>119500</td>\n",
       "      <td>009150</td>\n",
       "    </tr>\n",
       "    <tr>\n",
       "      <th>한국종합기술</th>\n",
       "      <td>up</td>\n",
       "      <td>https://finance.naver.com/item/main.nhn?code=0...</td>\n",
       "      <td>6310</td>\n",
       "      <td>023350</td>\n",
       "    </tr>\n",
       "    <tr>\n",
       "      <th>신라젠</th>\n",
       "      <td>dn</td>\n",
       "      <td>https://finance.naver.com/item/main.nhn?code=2...</td>\n",
       "      <td>72800</td>\n",
       "      <td>215600</td>\n",
       "    </tr>\n",
       "    <tr>\n",
       "      <th>SK하이닉스</th>\n",
       "      <td>dn</td>\n",
       "      <td>https://finance.naver.com/item/main.nhn?code=0...</td>\n",
       "      <td>70500</td>\n",
       "      <td>000660</td>\n",
       "    </tr>\n",
       "    <tr>\n",
       "      <th>셀트리온헬스케어</th>\n",
       "      <td>dn</td>\n",
       "      <td>https://finance.naver.com/item/main.nhn?code=0...</td>\n",
       "      <td>82200</td>\n",
       "      <td>091990</td>\n",
       "    </tr>\n",
       "  </tbody>\n",
       "</table>\n",
       "</div>"
      ],
      "text/plain": [
       "         direction                                                url     거래가  \\\n",
       "종목명                                                                             \n",
       "현대차             up  https://finance.naver.com/item/main.nhn?code=0...  100500   \n",
       "대아티아이           up  https://finance.naver.com/item/main.nhn?code=0...    8380   \n",
       "셀트리온            dn  https://finance.naver.com/item/main.nhn?code=0...  238500   \n",
       "삼성전자            up  https://finance.naver.com/item/main.nhn?code=0...   42850   \n",
       "아모레퍼시픽          up  https://finance.naver.com/item/main.nhn?code=0...  162500   \n",
       "삼성전기            up  https://finance.naver.com/item/main.nhn?code=0...  119500   \n",
       "한국종합기술          up  https://finance.naver.com/item/main.nhn?code=0...    6310   \n",
       "신라젠             dn  https://finance.naver.com/item/main.nhn?code=2...   72800   \n",
       "SK하이닉스          dn  https://finance.naver.com/item/main.nhn?code=0...   70500   \n",
       "셀트리온헬스케어        dn  https://finance.naver.com/item/main.nhn?code=0...   82200   \n",
       "\n",
       "            종목코드  \n",
       "종목명               \n",
       "현대차       005380  \n",
       "대아티아이     045390  \n",
       "셀트리온      068270  \n",
       "삼성전자      005930  \n",
       "아모레퍼시픽    090430  \n",
       "삼성전기      009150  \n",
       "한국종합기술    023350  \n",
       "신라젠       215600  \n",
       "SK하이닉스    000660  \n",
       "셀트리온헬스케어  091990  "
      ]
     },
     "execution_count": 53,
     "metadata": {},
     "output_type": "execute_result"
    }
   ],
   "source": [
    "df = stock_naver.get_실시간_국내증시_인기검색종목()\n",
    "print(df.shape)\n",
    "df"
   ]
  },
  {
   "cell_type": "markdown",
   "metadata": {},
   "source": [
    "## 시각화"
   ]
  },
  {
   "cell_type": "code",
   "execution_count": 54,
   "metadata": {},
   "outputs": [
    {
     "data": {
      "text/plain": [
       "<matplotlib.axes._subplots.AxesSubplot at 0x1c8a1dd5be0>"
      ]
     },
     "execution_count": 54,
     "metadata": {},
     "output_type": "execute_result"
    },
    {
     "data": {
      "image/png": "[encoded data removed]",
      "text/plain": [
       "<Figure size 720x432 with 1 Axes>"
      ]
     },
     "metadata": {
      "needs_background": "light"
     },
     "output_type": "display_data"
    }
   ],
   "source": [
    "df['거래가'].plot(kind='bar', figsize=(10, 6))"
   ]
  },
  {
   "cell_type": "code",
   "execution_count": 56,
   "metadata": {},
   "outputs": [
    {
     "data": {
      "image/png": "[encoded data removed]",
      "text/plain": [
       "<Figure size 1008x432 with 1 Axes>"
      ]
     },
     "metadata": {
      "needs_background": "light"
     },
     "output_type": "display_data"
    }
   ],
   "source": [
    "ax = df['거래가'].plot(kind='bar', figsize=(14, 6), rot=0)\n",
    "\n",
    "for p in ax.patches:\n",
    "    box = p.get_bbox()  # matplotlib.transforms.Bbox 타입 (x0, y0, x1, y1 속성)\n",
    "    \n",
    "    x = box.xmin\n",
    "    y = box.ymax\n",
    "    text = \"{:,}\".format(int(box.ymax))\n",
    "    \n",
    "    # https://matplotlib.org/users/annotations.html\n",
    "    ax.text(x, y, text, bbox={'boxstyle': 'round', 'fc': '#ffffff99'})"
   ]
  },
  {
   "cell_type": "code",
   "execution_count": null,
   "metadata": {},
   "outputs": [],
   "source": []
  }
 ],
 "metadata": {
  "kernelspec": {
   "display_name": "Python 3",
   "language": "python",
   "name": "python3"
  },
  "language_info": {
   "codemirror_mode": {
    "name": "ipython",
    "version": 3
   },
   "file_extension": ".py",
   "mimetype": "text/x-python",
   "name": "python",
   "nbconvert_exporter": "python",
   "pygments_lexer": "ipython3",
   "version": "3.7.1"
  }
 },
 "nbformat": 4,
 "nbformat_minor": 2
}
