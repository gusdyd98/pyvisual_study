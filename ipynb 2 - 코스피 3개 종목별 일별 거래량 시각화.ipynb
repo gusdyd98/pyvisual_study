{
 "cells": [
  {
   "cell_type": "code",
   "execution_count": 8,
   "metadata": {},
   "outputs": [],
   "source": [
    "%matplotlib inline\n",
    "from matplotlib import pyplot as plt\n",
    "import pandas as pd\n",
    "import seaborn as sns\n",
    "\n",
    "plt.rcParams['axes.unicode_minus'] = False\n",
    "plt.rcParams['font.family'] = 'Malgun Gothic'\n",
    "\n",
    "from tqdm import tqdm_notebook   # pip install tqdm\n",
    "from libs import stock_daum, stock_naver"
   ]
  },
  {
   "cell_type": "code",
   "execution_count": 9,
   "metadata": {},
   "outputs": [],
   "source": [
    "# https://matplotlib.org/gallery/ticks_and_spines/tick-formatters.html\n",
    "from matplotlib.ticker import FuncFormatter"
   ]
  },
  {
   "cell_type": "markdown",
   "metadata": {},
   "source": [
    "## 코스피 종목코드 수집\n",
    "\n",
    "+ 코스피 종목코드 : https://gist.github.com/allieus/733725662c644ab56c9db9d3cdf77ed1"
   ]
  },
  {
   "cell_type": "code",
   "execution_count": 10,
   "metadata": {},
   "outputs": [
    {
     "name": "stdout",
     "output_type": "stream",
     "text": [
      "(768, 1)\n"
     ]
    },
    {
     "data": {
      "text/html": [
       "<div>\n",
       "<style scoped>\n",
       "    .dataframe tbody tr th:only-of-type {\n",
       "        vertical-align: middle;\n",
       "    }\n",
       "\n",
       "    .dataframe tbody tr th {\n",
       "        vertical-align: top;\n",
       "    }\n",
       "\n",
       "    .dataframe thead th {\n",
       "        text-align: right;\n",
       "    }\n",
       "</style>\n",
       "<table border=\"1\" class=\"dataframe\">\n",
       "  <thead>\n",
       "    <tr style=\"text-align: right;\">\n",
       "      <th></th>\n",
       "      <th>종목코드</th>\n",
       "    </tr>\n",
       "    <tr>\n",
       "      <th>종목명</th>\n",
       "      <th></th>\n",
       "    </tr>\n",
       "  </thead>\n",
       "  <tbody>\n",
       "    <tr>\n",
       "      <th>미원에스씨</th>\n",
       "      <td>268280</td>\n",
       "    </tr>\n",
       "    <tr>\n",
       "      <th>경동도시가스</th>\n",
       "      <td>267290</td>\n",
       "    </tr>\n",
       "    <tr>\n",
       "      <th>넷마블게임즈</th>\n",
       "      <td>251270</td>\n",
       "    </tr>\n",
       "    <tr>\n",
       "      <th>아이엔지생명</th>\n",
       "      <td>079440</td>\n",
       "    </tr>\n",
       "    <tr>\n",
       "      <th>현대건설기계</th>\n",
       "      <td>267270</td>\n",
       "    </tr>\n",
       "  </tbody>\n",
       "</table>\n",
       "</div>"
      ],
      "text/plain": [
       "          종목코드\n",
       "종목명           \n",
       "미원에스씨   268280\n",
       "경동도시가스  267290\n",
       "넷마블게임즈  251270\n",
       "아이엔지생명  079440\n",
       "현대건설기계  267270"
      ]
     },
     "execution_count": 10,
     "metadata": {},
     "output_type": "execute_result"
    }
   ],
   "source": [
    "# 코스피 지수 CSV를 읽어들입니다.\n",
    "kospi_df = pd.read_csv(\"https://goo.gl/XpZH4y\", index_col='종목명', dtype={'종목코드': str})\n",
    "print(kospi_df.shape)\n",
    "kospi_df.head()"
   ]
  },
  {
   "cell_type": "code",
   "execution_count": 11,
   "metadata": {},
   "outputs": [],
   "source": [
    "kospi_series = kospi_df['종목코드']"
   ]
  },
  {
   "cell_type": "markdown",
   "metadata": {},
   "source": [
    "## 3개 종목의 일별 거래량 크롤링"
   ]
  },
  {
   "cell_type": "code",
   "execution_count": 12,
   "metadata": {},
   "outputs": [],
   "source": [
    "code = kospi_series['삼성전자']\n",
    "삼성전자_volume_df = pd.concat(stock_naver.get_종목별_일별_거래량(code, max_page=5))\n",
    "\n",
    "code = kospi_series['LG전자']\n",
    "LG전자_volume_df = pd.concat(stock_naver.get_종목별_일별_거래량(code, max_page=5))\n",
    "\n",
    "code = kospi_series['SK하이닉스']\n",
    "SK하이닉스_volume_df = pd.concat(stock_naver.get_종목별_일별_거래량(code, max_page=5))"
   ]
  },
  {
   "cell_type": "code",
   "execution_count": 13,
   "metadata": {},
   "outputs": [
    {
     "name": "stdout",
     "output_type": "stream",
     "text": [
      "(100, 3)\n"
     ]
    },
    {
     "data": {
      "text/html": [
       "<div>\n",
       "<style scoped>\n",
       "    .dataframe tbody tr th:only-of-type {\n",
       "        vertical-align: middle;\n",
       "    }\n",
       "\n",
       "    .dataframe tbody tr th {\n",
       "        vertical-align: top;\n",
       "    }\n",
       "\n",
       "    .dataframe thead th {\n",
       "        text-align: right;\n",
       "    }\n",
       "</style>\n",
       "<table border=\"1\" class=\"dataframe\">\n",
       "  <thead>\n",
       "    <tr style=\"text-align: right;\">\n",
       "      <th></th>\n",
       "      <th>삼성전자</th>\n",
       "      <th>LG전자</th>\n",
       "      <th>SK하이닉스</th>\n",
       "    </tr>\n",
       "    <tr>\n",
       "      <th>날짜</th>\n",
       "      <th></th>\n",
       "      <th></th>\n",
       "      <th></th>\n",
       "    </tr>\n",
       "  </thead>\n",
       "  <tbody>\n",
       "    <tr>\n",
       "      <th>2018-11-26</th>\n",
       "      <td>42600.0</td>\n",
       "      <td>71200.0</td>\n",
       "      <td>70900.0</td>\n",
       "    </tr>\n",
       "    <tr>\n",
       "      <th>2018-11-23</th>\n",
       "      <td>42400.0</td>\n",
       "      <td>69400.0</td>\n",
       "      <td>69300.0</td>\n",
       "    </tr>\n",
       "    <tr>\n",
       "      <th>2018-11-22</th>\n",
       "      <td>42450.0</td>\n",
       "      <td>69200.0</td>\n",
       "      <td>69300.0</td>\n",
       "    </tr>\n",
       "    <tr>\n",
       "      <th>2018-11-21</th>\n",
       "      <td>42100.0</td>\n",
       "      <td>69700.0</td>\n",
       "      <td>68100.0</td>\n",
       "    </tr>\n",
       "    <tr>\n",
       "      <th>2018-11-20</th>\n",
       "      <td>42800.0</td>\n",
       "      <td>70500.0</td>\n",
       "      <td>67500.0</td>\n",
       "    </tr>\n",
       "  </tbody>\n",
       "</table>\n",
       "</div>"
      ],
      "text/plain": [
       "               삼성전자     LG전자   SK하이닉스\n",
       "날짜                                   \n",
       "2018-11-26  42600.0  71200.0  70900.0\n",
       "2018-11-23  42400.0  69400.0  69300.0\n",
       "2018-11-22  42450.0  69200.0  69300.0\n",
       "2018-11-21  42100.0  69700.0  68100.0\n",
       "2018-11-20  42800.0  70500.0  67500.0"
      ]
     },
     "execution_count": 13,
     "metadata": {},
     "output_type": "execute_result"
    }
   ],
   "source": [
    "df = pd.DataFrame({\n",
    "    '삼성전자': 삼성전자_volume_df['종가'],\n",
    "    'LG전자': LG전자_volume_df['종가'],\n",
    "    'SK하이닉스': SK하이닉스_volume_df['종가'],\n",
    "})\n",
    "print(df.shape)\n",
    "df.head()"
   ]
  },
  {
   "cell_type": "markdown",
   "metadata": {},
   "source": [
    "## 시각화"
   ]
  },
  {
   "cell_type": "code",
   "execution_count": 14,
   "metadata": {},
   "outputs": [
    {
     "data": {
      "image/png": "[encoded data removed]",
      "text/plain": [
       "<Figure size 1080x360 with 1 Axes>"
      ]
     },
     "metadata": {
      "needs_background": "light"
     },
     "output_type": "display_data"
    }
   ],
   "source": [
    "ax = df.plot(figsize=(15, 5))\n",
    "ax.yaxis.set_major_formatter(FuncFormatter(lambda y, pos: '{:,}'.format(int(y))))"
   ]
  },
  {
   "cell_type": "code",
   "execution_count": null,
   "metadata": {},
   "outputs": [],
   "source": []
  }
 ],
 "metadata": {
  "kernelspec": {
   "display_name": "Python 3",
   "language": "python",
   "name": "python3"
  },
  "language_info": {
   "codemirror_mode": {
    "name": "ipython",
    "version": 3
   },
   "file_extension": ".py",
   "mimetype": "text/x-python",
   "name": "python",
   "nbconvert_exporter": "python",
   "pygments_lexer": "ipython3",
   "version": "3.7.1"
  }
 },
 "nbformat": 4,
 "nbformat_minor": 2
}
