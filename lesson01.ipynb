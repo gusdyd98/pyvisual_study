{
 "cells": [
  {
   "cell_type": "code",
   "execution_count": 1,
   "metadata": {},
   "outputs": [
    {
     "data": {
      "text/plain": [
       "'C:\\\\Users\\\\gusdyd98\\\\Documents\\\\python\\\\pyvisual'"
      ]
     },
     "execution_count": 1,
     "metadata": {},
     "output_type": "execute_result"
    }
   ],
   "source": [
    "%pwd"
   ]
  },
  {
   "cell_type": "code",
   "execution_count": 2,
   "metadata": {},
   "outputs": [
    {
     "name": "stdout",
     "output_type": "stream",
     "text": [
      " C 드라이브의 볼륨에는 이름이 없습니다.\n",
      " 볼륨 일련 번호: 42DE-BDD6\n",
      "\n",
      " C:\\Users\\gusdyd98\\Documents\\python\\pyvisual 디렉터리\n",
      "\n",
      "2019-12-07  오전 01:33    <DIR>          .\n",
      "2019-12-07  오전 01:33    <DIR>          ..\n",
      "2019-12-07  오전 01:33    <DIR>          .ipynb_checkpoints\n",
      "2019-12-07  오전 01:32    <DIR>          data\n",
      "2019-12-07  오전 01:32           151,233 ipynb 1 - KOSPI200 지수와 S&P500 지수 비교하기.ipynb\n",
      "2019-12-07  오전 01:32            60,615 ipynb 2 - 코스피 3개 종목별 일별 거래량 시각화.ipynb\n",
      "2019-12-07  오전 01:32            49,469 ipynb 3 - 실시간 국내증시 인기검색 종목 시각화.ipynb\n",
      "2019-12-07  오전 01:32           192,377 ipynb 4 - 코스피 3개 종목별 실시간 시세 시각화.ipynb\n",
      "2019-12-07  오전 01:33                72 lesson01.ipynb\n",
      "2019-12-07  오전 01:32    <DIR>          libs\n",
      "               5개 파일             453,766 바이트\n",
      "               5개 디렉터리  18,413,539,328 바이트 남음\n"
     ]
    }
   ],
   "source": [
    "%ls"
   ]
  },
  {
   "cell_type": "markdown",
   "metadata": {},
   "source": [
    "# 초기화 코드"
   ]
  },
  {
   "cell_type": "code",
   "execution_count": 3,
   "metadata": {},
   "outputs": [],
   "source": [
    "%matplotlib inline\n",
    "\n",
    "from matplotlib import pyplot as plt\n",
    "import pandas as pd\n",
    "import seaborn as sns\n",
    "\n",
    "plt.rcParams['axes.unicode_minus']=False\n",
    "plt.rcParams['font.family']='Malgun Gothic'\n",
    "\n",
    "from tqdm import tqdm_notebook\n",
    "from libs import stock_daum, stock_naver"
   ]
  },
  {
   "cell_type": "code",
   "execution_count": null,
   "metadata": {},
   "outputs": [],
   "source": []
  },
  {
   "cell_type": "code",
   "execution_count": 4,
   "metadata": {},
   "outputs": [],
   "source": [
    "x = [0, 1, 2, 3]\n",
    "y = [1, 4, 9, 16]"
   ]
  },
  {
   "cell_type": "code",
   "execution_count": 7,
   "metadata": {},
   "outputs": [
    {
     "data": {
      "image/png": "[encoded data removed]",
      "text/plain": [
       "<Figure size 432x288 with 1 Axes>"
      ]
     },
     "metadata": {
      "needs_background": "light"
     },
     "output_type": "display_data"
    }
   ],
   "source": [
    "plt.plot(x,y)\n",
    "plt.xlabel('X축')\n",
    "plt.ylabel('Y축')\n",
    "plt.show()"
   ]
  },
  {
   "cell_type": "code",
   "execution_count": null,
   "metadata": {},
   "outputs": [],
   "source": []
  }
 ],
 "metadata": {
  "kernelspec": {
   "display_name": "Python 3",
   "language": "python",
   "name": "python3"
  },
  "language_info": {
   "codemirror_mode": {
    "name": "ipython",
    "version": 3
   },
   "file_extension": ".py",
   "mimetype": "text/x-python",
   "name": "python",
   "nbconvert_exporter": "python",
   "pygments_lexer": "ipython3",
   "version": "3.7.4"
  }
 },
 "nbformat": 4,
 "nbformat_minor": 2
}
